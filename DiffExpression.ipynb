{
 "cells": [
  {
   "cell_type": "markdown",
   "metadata": {
    "colab_type": "text",
    "id": "pypAP-YB32Hj"
   },
   "source": [
    "## Информация о каком количестве генов есть в исследовании? Есть ли в данных дубликаты по генам? Что еще вы можете сказать о данных?\n",
    "\n",
    "Для каждого из 18 образцов есть данные по 22514 уникальным наименованиям. Сырые данные содержали 45018 значений интенсивности пикселей. Из них были отфильтрованы 23930 признаков, так чтобы 15 из 18 образцов или все 6 образцов из одной категории удовлетворяли функции фильтрации. Функция фильтрации проверяла, чтобы для извлеченного признака из образца поле ControlType равнялось 0, поле gIsFound равнялось 1, поле gIsPosAndSignif равнялось 1 (позитивный и значимый сигнал), поле gIsWellAboveBG равнялось 1 (сигнал значительно выше шума). Полученная таблица значений была нормализована по квантилям. Для дублирующихся признаков сигнал был усреднен. В результате было получено 22514 уникальных признаков. Для каждого образца каждому признаку соответствует прологарифмированное по модулю 2 значение сигнала, полученного в результате эксперимента."
   ]
  },
  {
   "cell_type": "code",
   "execution_count": 1,
   "metadata": {
    "colab": {
     "base_uri": "https://localhost:8080/",
     "height": 68
    },
    "colab_type": "code",
    "id": "AEYaqcR33rO-",
    "outputId": "6b48a35f-b26e-46ba-df99-f057b5054a3a"
   },
   "outputs": [
    {
     "name": "stdout",
     "output_type": "stream",
     "text": [
      "Number of samples: 18\n",
      "Number of features: 22514\n",
      "Number of unique features: 22514\n"
     ]
    }
   ],
   "source": [
    "# Load datasets and print statistics\n",
    "import pandas as pd\n",
    "\n",
    "data = pd.read_csv(\"data.txt\", sep=\"\\t\", index_col=0).T\n",
    "values = pd.DataFrame([\"control\"] * 6 + [\"low_dose\"] * 6 + [\"high_dose\"] * 6, index = data.index, columns = [\"category\"])\n",
    "\n",
    "print(\"Number of samples:\", len(data.index))\n",
    "print(\"Number of features:\", len(data.columns))\n",
    "print(\"Number of unique features:\", len(data.columns.unique()))\n"
   ]
  },
  {
   "cell_type": "code",
   "execution_count": 2,
   "metadata": {
    "colab": {
     "base_uri": "https://localhost:8080/",
     "height": 119
    },
    "colab_type": "code",
    "id": "e63FsiOaWuwn",
    "outputId": "dc39ddd4-5fe4-4275-d6c8-e0868aff25ff"
   },
   "outputs": [
    {
     "name": "stdout",
     "output_type": "stream",
     "text": [
      "ID_REF    A_51_P100034 A_51_P100063 A_51_P100099 A_51_P100155 A_51_P100174  \\\n",
      "control         12.365        6.108        7.525      10.6935        6.219   \n",
      "low_dose       12.1485      6.13333      7.50967      10.5788      6.07767   \n",
      "high_dose      12.1823        6.648      7.48667      10.4737       6.1995   \n",
      "\n",
      "ID_REF    A_51_P100181 A_51_P100227 A_51_P100246 A_51_P100289 A_51_P100327  \\\n",
      "control        6.72883      8.21417      9.63917      8.42467      7.32417   \n",
      "low_dose       6.82517      8.24383      9.37933       8.2955        7.315   \n",
      "high_dose      6.73717      8.28217      9.32567      8.35183      7.60833   \n",
      "\n",
      "ID_REF     ... A_52_P995381 A_52_P996032 A_52_P996473 A_52_P99665 A_52_P99670  \\\n",
      "control    ...      7.34317      8.56733      6.01233     8.04533      7.6015   \n",
      "low_dose   ...        7.123      8.09767      6.09433     8.00433     7.32817   \n",
      "high_dose  ...      7.04883      8.01417      6.09583     8.24167     7.21467   \n",
      "\n",
      "ID_REF    A_52_P997209 A_52_P997449 A_52_P99807 A_52_P99848 A_52_P99888  \n",
      "control          7.906      9.70517     7.42283     6.98517        7.26  \n",
      "low_dose       7.73483      10.0625     7.39717     7.09583     7.33583  \n",
      "high_dose      7.92417      9.78267     6.93917     7.30433      7.3635  \n",
      "\n",
      "[3 rows x 22514 columns]\n"
     ]
    }
   ],
   "source": [
    "# Calculate mean expression values per feature by category\n",
    "categories = [\"control\", \"low_dose\", \"high_dose\"]\n",
    "mean_by_category = pd.DataFrame(index = categories, columns=data.columns)\n",
    "\n",
    "\n",
    "for i in categories:\n",
    "  samples = values[values[\"category\"]==i].index.values\n",
    "  mean_by_category.loc[i] = data.loc[samples].mean()\n",
    "  \n",
    "print(mean_by_category)"
   ]
  },
  {
   "cell_type": "code",
   "execution_count": 3,
   "metadata": {
    "colab": {
     "base_uri": "https://localhost:8080/",
     "height": 88
    },
    "colab_type": "code",
    "id": "iNos6tBs0EW0",
    "outputId": "5035d3c4-e201-40be-8e7e-941288e96a13"
   },
   "outputs": [
    {
     "name": "stdout",
     "output_type": "stream",
     "text": [
      "270 control vs low_dose features: {'A_52_P1013551', 'A_52_P244736', 'A_51_P345470', 'A_51_P382618', 'A_51_P359374', 'A_52_P303041', 'A_51_P370099', 'A_51_P416059', 'A_52_P470316', 'A_51_P429366', 'A_51_P446012', 'A_52_P289274', 'A_52_P556328', 'A_51_P254583', 'A_51_P200477', 'A_51_P175354', 'A_52_P166770', 'A_52_P647906', 'A_52_P446011', 'A_51_P256384', 'A_52_P107354', 'A_52_P651078', 'A_51_P212854', 'A_52_P539361', 'A_52_P318040', 'A_52_P121916', 'A_51_P223199', 'A_51_P406145', 'A_52_P621603', 'A_51_P372473', 'A_51_P453043', 'A_52_P466853', 'A_51_P145402', 'A_52_P225249', 'A_51_P382310', 'A_51_P518001', 'A_52_P608024', 'A_52_P162957', 'A_52_P385824', 'A_51_P416689', 'A_52_P656659', 'A_52_P167166', 'A_51_P400816', 'A_51_P504624', 'A_51_P229076', 'A_51_P431919', 'A_52_P480709', 'A_51_P324871', 'A_51_P496432', 'A_51_P401193', 'A_51_P251069', 'A_51_P188126', 'A_52_P331215', 'A_51_P357207', 'A_51_P451574', 'A_51_P439426', 'A_52_P512301', 'A_52_P475870', 'A_52_P99470', 'A_52_P35174', 'A_52_P352277', 'A_51_P219532', 'A_51_P302056', 'A_51_P430973', 'A_51_P216593', 'A_52_P262080', 'A_51_P194099', 'A_52_P620497', 'A_51_P488789', 'A_52_P624447', 'A_52_P338479', 'A_52_P576007', 'A_51_P394665', 'A_51_P431470', 'A_52_P62011', 'A_52_P658945', 'A_51_P119633', 'A_52_P339966', 'A_52_P1051839', 'A_51_P334804', 'A_51_P347907', 'A_51_P282760', 'A_52_P278192', 'A_51_P332822', 'A_52_P335842', 'A_52_P1021832', 'A_52_P177685', 'A_52_P135398', 'A_51_P295816', 'A_51_P365482', 'A_52_P297803', 'A_52_P642879', 'A_52_P322658', 'A_51_P101075', 'A_52_P350750', 'A_51_P160344', 'A_52_P542013', 'A_51_P521155', 'A_52_P309494', 'A_52_P623538', 'A_52_P67637', 'A_52_P434055', 'A_51_P354077', 'A_52_P91359', 'A_52_P355813', 'A_51_P389265', 'A_52_P175304', 'A_52_P516', 'A_52_P743305', 'A_51_P234421', 'A_52_P170509', 'A_52_P455629', 'A_51_P199425', 'A_51_P286373', 'A_51_P370700', 'A_51_P116699', 'A_52_P570288', 'A_51_P104487', 'A_52_P450038', 'A_51_P469411', 'A_51_P484551', 'A_51_P266861', 'A_51_P250597', 'A_51_P324120', 'A_52_P256929', 'A_52_P163766', 'A_51_P158462', 'A_52_P23177', 'A_51_P114551', 'A_52_P132353', 'A_51_P332627', 'A_51_P248705', 'A_51_P284577', 'A_52_P421196', 'A_51_P267354', 'A_52_P575752', 'A_52_P328492', 'A_51_P202292', 'A_51_P463440', 'A_51_P236439', 'A_52_P340167', 'A_51_P189269', 'A_51_P140211', 'A_52_P630877', 'A_51_P420726', 'A_52_P305890', 'A_51_P288916', 'A_51_P454002', 'A_51_P356012', 'A_52_P80806', 'A_51_P302222', 'A_51_P355943', 'A_52_P843466', 'A_52_P170985', 'A_52_P384574', 'A_52_P45170', 'A_51_P193490', 'A_51_P368586', 'A_51_P359586', 'A_52_P429364', 'A_51_P147850', 'A_51_P500344', 'A_52_P505053', 'A_51_P394984', 'A_52_P257812', 'A_52_P287456', 'A_52_P132591', 'A_52_P377941', 'A_51_P348804', 'A_51_P323221', 'A_51_P225781', 'A_52_P251416', 'A_51_P143470', 'A_52_P488092', 'A_51_P360673', 'A_52_P324566', 'A_52_P667215', 'A_51_P112322', 'A_52_P62051', 'A_52_P683957', 'A_52_P843910', 'A_51_P392701', 'A_52_P320279', 'A_51_P482951', 'A_52_P86935', 'A_51_P214306', 'A_52_P472725', 'A_51_P492228', 'A_51_P271887', 'A_52_P381806', 'A_51_P143737', 'A_51_P515056', 'A_51_P401921', 'A_51_P464149', 'A_51_P116039', 'A_52_P319361', 'A_52_P860150', 'A_51_P246895', 'A_52_P493620', 'A_51_P118885', 'A_51_P356283', 'A_52_P568792', 'A_52_P354248', 'A_51_P157472', 'A_52_P62530', 'A_52_P595429', 'A_52_P342131', 'A_51_P428035', 'A_52_P663765', 'A_52_P423247', 'A_51_P297470', 'A_52_P576442', 'A_52_P172563', 'A_51_P498831', 'A_51_P508510', 'A_52_P1147388', 'A_51_P488768', 'A_51_P482425', 'A_51_P361150', 'A_52_P118756', 'A_51_P511448', 'A_52_P145011', 'A_51_P392223', 'A_52_P409868', 'A_52_P154971', 'A_51_P265545', 'A_52_P184588', 'A_51_P304859', 'A_52_P326808', 'A_51_P473576', 'A_51_P512340', 'A_52_P681771', 'A_51_P286131', 'A_51_P141932', 'A_52_P459609', 'A_51_P311621', 'A_52_P265773', 'A_52_P100252', 'A_52_P183088', 'A_52_P233411', 'A_51_P502993', 'A_52_P617080', 'A_51_P209996', 'A_51_P503433', 'A_52_P495439', 'A_52_P669451', 'A_52_P612165', 'A_51_P185141', 'A_52_P11388', 'A_51_P348057', 'A_52_P617186', 'A_52_P483104', 'A_52_P456271', 'A_51_P199552', 'A_52_P32453', 'A_52_P308881', 'A_51_P216516', 'A_51_P416191', 'A_51_P261718', 'A_51_P130057', 'A_51_P269494', 'A_52_P317653', 'A_52_P21724', 'A_51_P363308', 'A_52_P433643', 'A_51_P223666', 'A_52_P916243', 'A_51_P315272', 'A_51_P515348', 'A_51_P377826'}\n",
      "\n",
      "65 control vs high_dose features: {'A_52_P868302', 'A_52_P523179', 'A_52_P569759', 'A_51_P279505', 'A_52_P594636', 'A_52_P891503', 'A_52_P1687', 'A_52_P467814', 'A_51_P145376', 'A_51_P308029', 'A_52_P397722', 'A_51_P400137', 'A_52_P756306', 'A_51_P318262', 'A_52_P465171', 'A_52_P338887', 'A_51_P297470', 'A_52_P131423', 'A_51_P307954', 'A_51_P366157', 'A_52_P193823', 'A_51_P476492', 'A_52_P1034794', 'A_51_P338317', 'A_52_P627631', 'A_52_P611000', 'A_52_P819220', 'A_52_P24690', 'A_51_P154469', 'A_52_P375764', 'A_51_P396284', 'A_52_P325797', 'A_51_P404904', 'A_52_P3214', 'A_52_P582555', 'A_51_P136337', 'A_52_P235057', 'A_51_P366513', 'A_51_P197252', 'A_52_P124320', 'A_51_P260513', 'A_51_P435545', 'A_51_P514700', 'A_52_P597002', 'A_52_P220879', 'A_52_P184435', 'A_51_P257151', 'A_52_P398158', 'A_52_P572537', 'A_52_P485573', 'A_52_P308881', 'A_51_P252000', 'A_51_P176681', 'A_51_P161265', 'A_51_P215438', 'A_52_P556586', 'A_52_P591431', 'A_52_P610587', 'A_52_P477649', 'A_52_P472725', 'A_52_P384621', 'A_51_P130544', 'A_51_P227445', 'A_52_P620497', 'A_52_P188099'}\n",
      "\n",
      "4 common for both two-class problems features: {'A_52_P620497', 'A_51_P297470', 'A_52_P308881', 'A_52_P472725'}\n",
      "\n"
     ]
    }
   ],
   "source": [
    "from sklearn.tree import DecisionTreeClassifier\n",
    "\n",
    "control_low_samples = values[(values[\"category\"]==\"control\") | (values[\"category\"]==\"low_dose\")].index.values\n",
    "control_low_data = data.loc[control_low_samples]\n",
    "control_low_values = values.loc[control_low_samples]\n",
    "\n",
    "low_features = set()\n",
    "for i in range(10000):\n",
    "  clf_low = DecisionTreeClassifier(max_depth=2)\n",
    "  clf_low.fit(control_low_data.values, control_low_values.values)\n",
    "\n",
    "  for i, v in enumerate(clf_low.feature_importances_):\n",
    "    if v != 0:\n",
    "      low_features.add(control_low_data.columns[i])\n",
    "\n",
    "\n",
    "control_high_samples = values[(values[\"category\"]==\"control\") | (values[\"category\"]==\"high_dose\")].index.values\n",
    "control_high_data = data.loc[control_high_samples]\n",
    "control_high_values = values.loc[control_high_samples]\n",
    "\n",
    "high_features = set()\n",
    "for i in range(10000):\n",
    "  clf_high = DecisionTreeClassifier(max_depth=2)\n",
    "  clf_high.fit(control_high_data.values, control_high_values.values)\n",
    "\n",
    "  for i, v in enumerate(clf_high.feature_importances_):\n",
    "    if v != 0:\n",
    "      high_features.add(control_high_data.columns[i])\n",
    "\n",
    "print(len(low_features), \"control vs low_dose features:\", low_features)\n",
    "print()\n",
    "print(len(high_features), \"control vs high_dose features:\", high_features)\n",
    "print()\n",
    "\n",
    "common_features = low_features & high_features\n",
    "print(len(common_features), \"common for both two-class problems features:\", common_features)\n",
    "print()"
   ]
  }
 ],
 "metadata": {
  "colab": {
   "collapsed_sections": [],
   "name": "DiffExpression.ipynb",
   "provenance": []
  },
  "kernelspec": {
   "display_name": "Python 3",
   "language": "python",
   "name": "python3"
  },
  "language_info": {
   "codemirror_mode": {
    "name": "ipython",
    "version": 3
   },
   "file_extension": ".py",
   "mimetype": "text/x-python",
   "name": "python",
   "nbconvert_exporter": "python",
   "pygments_lexer": "ipython3",
   "version": "3.7.4"
  }
 },
 "nbformat": 4,
 "nbformat_minor": 1
}
